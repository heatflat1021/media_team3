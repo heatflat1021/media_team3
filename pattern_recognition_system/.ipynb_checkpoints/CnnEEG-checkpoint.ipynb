{
 "cells": [
  {
   "cell_type": "code",
   "execution_count": 1,
   "metadata": {
    "scrolled": true
   },
   "outputs": [
    {
     "name": "stdout",
     "output_type": "stream",
     "text": [
      "Requirement already satisfied: numpy in c:\\users\\owner\\anaconda3\\lib\\site-packages (1.18.1)\n",
      "Requirement already satisfied: matplotlib in c:\\users\\owner\\anaconda3\\lib\\site-packages (3.1.3)\n",
      "Requirement already satisfied: pyparsing!=2.0.4,!=2.1.2,!=2.1.6,>=2.0.1 in c:\\users\\owner\\anaconda3\\lib\\site-packages (from matplotlib) (2.4.6)\n",
      "Requirement already satisfied: kiwisolver>=1.0.1 in c:\\users\\owner\\anaconda3\\lib\\site-packages (from matplotlib) (1.1.0)\n",
      "Requirement already satisfied: numpy>=1.11 in c:\\users\\owner\\anaconda3\\lib\\site-packages (from matplotlib) (1.18.1)\n",
      "Requirement already satisfied: cycler>=0.10 in c:\\users\\owner\\anaconda3\\lib\\site-packages (from matplotlib) (0.10.0)\n",
      "Requirement already satisfied: python-dateutil>=2.1 in c:\\users\\owner\\anaconda3\\lib\\site-packages (from matplotlib) (2.8.1)\n",
      "Requirement already satisfied: setuptools in c:\\users\\owner\\anaconda3\\lib\\site-packages (from kiwisolver>=1.0.1->matplotlib) (45.2.0.post20200210)\n",
      "Requirement already satisfied: six in c:\\users\\owner\\anaconda3\\lib\\site-packages (from cycler>=0.10->matplotlib) (1.14.0)\n",
      "Requirement already satisfied: sklearn in c:\\users\\owner\\anaconda3\\lib\\site-packages (0.0)\n",
      "Requirement already satisfied: scikit-learn in c:\\users\\owner\\anaconda3\\lib\\site-packages (from sklearn) (0.22.1)\n",
      "Requirement already satisfied: numpy>=1.11.0 in c:\\users\\owner\\anaconda3\\lib\\site-packages (from scikit-learn->sklearn) (1.18.1)\n",
      "Requirement already satisfied: scipy>=0.17.0 in c:\\users\\owner\\anaconda3\\lib\\site-packages (from scikit-learn->sklearn) (1.4.1)\n",
      "Requirement already satisfied: joblib>=0.11 in c:\\users\\owner\\anaconda3\\lib\\site-packages (from scikit-learn->sklearn) (0.14.1)\n",
      "Requirement already satisfied: tensorflow in c:\\users\\owner\\anaconda3\\lib\\site-packages (2.3.1)\n",
      "Requirement already satisfied: tensorboard<3,>=2.3.0 in c:\\users\\owner\\anaconda3\\lib\\site-packages (from tensorflow) (2.3.0)\n",
      "Requirement already satisfied: google-pasta>=0.1.8 in c:\\users\\owner\\anaconda3\\lib\\site-packages (from tensorflow) (0.2.0)\n",
      "Requirement already satisfied: numpy<1.19.0,>=1.16.0 in c:\\users\\owner\\anaconda3\\lib\\site-packages (from tensorflow) (1.18.1)\n",
      "Requirement already satisfied: grpcio>=1.8.6 in c:\\users\\owner\\anaconda3\\lib\\site-packages (from tensorflow) (1.33.2)\n",
      "Requirement already satisfied: protobuf>=3.9.2 in c:\\users\\owner\\anaconda3\\lib\\site-packages (from tensorflow) (3.13.0)\n",
      "Requirement already satisfied: wheel>=0.26 in c:\\users\\owner\\anaconda3\\lib\\site-packages (from tensorflow) (0.34.2)\n",
      "Requirement already satisfied: absl-py>=0.7.0 in c:\\users\\owner\\anaconda3\\lib\\site-packages (from tensorflow) (0.11.0)\n",
      "Requirement already satisfied: wrapt>=1.11.1 in c:\\users\\owner\\anaconda3\\lib\\site-packages (from tensorflow) (1.11.2)\n",
      "Requirement already satisfied: opt-einsum>=2.3.2 in c:\\users\\owner\\anaconda3\\lib\\site-packages (from tensorflow) (3.3.0)\n",
      "Requirement already satisfied: h5py<2.11.0,>=2.10.0 in c:\\users\\owner\\anaconda3\\lib\\site-packages (from tensorflow) (2.10.0)\n",
      "Requirement already satisfied: keras-preprocessing<1.2,>=1.1.1 in c:\\users\\owner\\anaconda3\\lib\\site-packages (from tensorflow) (1.1.2)\n",
      "Requirement already satisfied: astunparse==1.6.3 in c:\\users\\owner\\anaconda3\\lib\\site-packages (from tensorflow) (1.6.3)\n",
      "Requirement already satisfied: six>=1.12.0 in c:\\users\\owner\\anaconda3\\lib\\site-packages (from tensorflow) (1.14.0)\n",
      "Requirement already satisfied: termcolor>=1.1.0 in c:\\users\\owner\\anaconda3\\lib\\site-packages (from tensorflow) (1.1.0)\n",
      "Requirement already satisfied: tensorflow-estimator<2.4.0,>=2.3.0 in c:\\users\\owner\\anaconda3\\lib\\site-packages (from tensorflow) (2.3.0)\n",
      "Requirement already satisfied: gast==0.3.3 in c:\\users\\owner\\anaconda3\\lib\\site-packages (from tensorflow) (0.3.3)\n",
      "Requirement already satisfied: google-auth<2,>=1.6.3 in c:\\users\\owner\\anaconda3\\lib\\site-packages (from tensorboard<3,>=2.3.0->tensorflow) (1.23.0)\n",
      "Requirement already satisfied: requests<3,>=2.21.0 in c:\\users\\owner\\anaconda3\\lib\\site-packages (from tensorboard<3,>=2.3.0->tensorflow) (2.22.0)\n",
      "Requirement already satisfied: markdown>=2.6.8 in c:\\users\\owner\\anaconda3\\lib\\site-packages (from tensorboard<3,>=2.3.0->tensorflow) (3.3.3)\n",
      "Requirement already satisfied: setuptools>=41.0.0 in c:\\users\\owner\\anaconda3\\lib\\site-packages (from tensorboard<3,>=2.3.0->tensorflow) (45.2.0.post20200210)\n",
      "Requirement already satisfied: werkzeug>=0.11.15 in c:\\users\\owner\\anaconda3\\lib\\site-packages (from tensorboard<3,>=2.3.0->tensorflow) (1.0.0)\n",
      "Requirement already satisfied: google-auth-oauthlib<0.5,>=0.4.1 in c:\\users\\owner\\anaconda3\\lib\\site-packages (from tensorboard<3,>=2.3.0->tensorflow) (0.4.2)\n",
      "Requirement already satisfied: tensorboard-plugin-wit>=1.6.0 in c:\\users\\owner\\anaconda3\\lib\\site-packages (from tensorboard<3,>=2.3.0->tensorflow) (1.7.0)\n",
      "Requirement already satisfied: rsa<5,>=3.1.4; python_version >= \"3.5\" in c:\\users\\owner\\anaconda3\\lib\\site-packages (from google-auth<2,>=1.6.3->tensorboard<3,>=2.3.0->tensorflow) (4.6)\n",
      "Requirement already satisfied: cachetools<5.0,>=2.0.0 in c:\\users\\owner\\anaconda3\\lib\\site-packages (from google-auth<2,>=1.6.3->tensorboard<3,>=2.3.0->tensorflow) (4.1.1)\n",
      "Requirement already satisfied: pyasn1-modules>=0.2.1 in c:\\users\\owner\\anaconda3\\lib\\site-packages (from google-auth<2,>=1.6.3->tensorboard<3,>=2.3.0->tensorflow) (0.2.8)\n",
      "Requirement already satisfied: chardet<3.1.0,>=3.0.2 in c:\\users\\owner\\anaconda3\\lib\\site-packages (from requests<3,>=2.21.0->tensorboard<3,>=2.3.0->tensorflow) (3.0.4)\n",
      "Requirement already satisfied: certifi>=2017.4.17 in c:\\users\\owner\\anaconda3\\lib\\site-packages (from requests<3,>=2.21.0->tensorboard<3,>=2.3.0->tensorflow) (2019.11.28)\n",
      "Requirement already satisfied: urllib3!=1.25.0,!=1.25.1,<1.26,>=1.21.1 in c:\\users\\owner\\anaconda3\\lib\\site-packages (from requests<3,>=2.21.0->tensorboard<3,>=2.3.0->tensorflow) (1.25.8)\n",
      "Requirement already satisfied: idna<2.9,>=2.5 in c:\\users\\owner\\anaconda3\\lib\\site-packages (from requests<3,>=2.21.0->tensorboard<3,>=2.3.0->tensorflow) (2.8)\n",
      "Requirement already satisfied: importlib-metadata; python_version < \"3.8\" in c:\\users\\owner\\anaconda3\\lib\\site-packages (from markdown>=2.6.8->tensorboard<3,>=2.3.0->tensorflow) (1.5.0)\n",
      "Requirement already satisfied: requests-oauthlib>=0.7.0 in c:\\users\\owner\\anaconda3\\lib\\site-packages (from google-auth-oauthlib<0.5,>=0.4.1->tensorboard<3,>=2.3.0->tensorflow) (1.3.0)\n",
      "Requirement already satisfied: pyasn1>=0.1.3 in c:\\users\\owner\\anaconda3\\lib\\site-packages (from rsa<5,>=3.1.4; python_version >= \"3.5\"->google-auth<2,>=1.6.3->tensorboard<3,>=2.3.0->tensorflow) (0.4.8)\n",
      "Requirement already satisfied: zipp>=0.5 in c:\\users\\owner\\anaconda3\\lib\\site-packages (from importlib-metadata; python_version < \"3.8\"->markdown>=2.6.8->tensorboard<3,>=2.3.0->tensorflow) (2.2.0)\n",
      "Requirement already satisfied: oauthlib>=3.0.0 in c:\\users\\owner\\anaconda3\\lib\\site-packages (from requests-oauthlib>=0.7.0->google-auth-oauthlib<0.5,>=0.4.1->tensorboard<3,>=2.3.0->tensorflow) (3.1.0)\n"
     ]
    }
   ],
   "source": [
    "# 必要なパッケージのインストール。\n",
    "# ほかに必要なものがあれば、pip install パッケージ名でインストールする。\n",
    "!pip install numpy\n",
    "!pip install matplotlib\n",
    "!pip install sklearn\n",
    "!pip install tensorflow"
   ]
  },
  {
   "cell_type": "code",
   "execution_count": 13,
   "metadata": {},
   "outputs": [],
   "source": [
    "import numpy as np\n",
    "import matplotlib.pyplot as plt\n",
    "\n",
    "# データ分割\n",
    "from sklearn.model_selection import train_test_split\n",
    "\n",
    "#tensorflow (新しいバージョンのtensorflowはkerasを含む)\n",
    "import tensorflow as tf\n",
    "\n",
    "# ファイルI/O\n",
    "import csv\n",
    "import os\n",
    "\n",
    "# Neural Network関連\n",
    "# tensorflowがKeras場合はこれらのインストールは不要\n",
    "# ネイティブKerasを使う場合ソースコード中のtf.keras....を必要に応じて修正\n",
    "#from keras.datasets import mnist\n",
    "#from keras.utils import np_utils\n",
    "#from keras.models import Sequential\n",
    "#from keras.layers import InputLayer, Dense, Flatten\n",
    "#from keras.layers import Conv2D, MaxPooling2D"
   ]
  },
  {
   "cell_type": "markdown",
   "metadata": {},
   "source": [
    "# Convolutional Neural Network (CNN)"
   ]
  },
  {
   "cell_type": "code",
   "execution_count": 14,
   "metadata": {},
   "outputs": [],
   "source": [
    "DATA_LENGTH = 640\n",
    "STEP_SIZE = 100\n",
    "IGNORE_LENGTH = 100\n",
    "CHANNEL_NUMBER = 14\n",
    "\n",
    "commands = [\n",
    "    'neutral', 'straight', 'sword', 'magic1', 'magic2'\n",
    "]\n",
    "\n",
    "username = 'takashi'\n",
    "\n",
    "train_data_path = \"./{}/traindata\".format(username)\n",
    "\n",
    "def normalize(x):\n",
    "    min = x.min()\n",
    "    max = x.max()\n",
    "    result = (x-min)/(max-min)\n",
    "    return result\n",
    "\n",
    "all_files = os.listdir(train_data_path)\n",
    "\n",
    "X = np.zeros((0, DATA_LENGTH, CHANNEL_NUMBER), float)\n",
    "Y = np.zeros(0)\n",
    "for commandIdx, command in enumerate(commands):\n",
    "    specific_command_data_list = np.zeros((0, DATA_LENGTH, CHANNEL_NUMBER), float)\n",
    "    specific_files = [s for s in all_files if command in s and '.csv' in s]\n",
    "    for specific_file in specific_files:\n",
    "        with open(train_data_path + \"/\" + specific_file) as f:\n",
    "            reader = csv.reader(f)\n",
    "            l = [row for row in reader]\n",
    "        l = [[float(v) for v in row[3:3+CHANNEL_NUMBER]] for row in l[2:]] # EEGに該当する部分のみスライス\n",
    "        l = np.array(l)\n",
    "        l = l.astype(np.float)\n",
    "        \n",
    "        step = 0\n",
    "        while IGNORE_LENGTH + STEP_SIZE * step + DATA_LENGTH < l.shape[0]:\n",
    "            startIdx = IGNORE_LENGTH + STEP_SIZE * step\n",
    "            endIdx = IGNORE_LENGTH + STEP_SIZE * step + DATA_LENGTH\n",
    "            X = np.block([[[X]], [[normalize(l[startIdx:endIdx]).reshape(1, DATA_LENGTH, CHANNEL_NUMBER)]]])\n",
    "            step += 1\n",
    "        Y = np.append(Y, np.full(step, commandIdx))"
   ]
  },
  {
   "cell_type": "code",
   "execution_count": 15,
   "metadata": {},
   "outputs": [
    {
     "name": "stdout",
     "output_type": "stream",
     "text": [
      "(4080, 640, 14, 1)\n"
     ]
    }
   ],
   "source": [
    "#reshape\n",
    "X = X.reshape(X.shape[0], X.shape[1],X.shape[2], 1)\n",
    "print(X.shape)"
   ]
  },
  {
   "cell_type": "code",
   "execution_count": 16,
   "metadata": {},
   "outputs": [
    {
     "name": "stdout",
     "output_type": "stream",
     "text": [
      "(4080, 5)\n"
     ]
    }
   ],
   "source": [
    "# 教師データをOne-hot表現に直す\n",
    "Y = tf.keras.utils.to_categorical(Y, num_classes=len(commands))\n",
    "print(Y.shape)"
   ]
  },
  {
   "cell_type": "code",
   "execution_count": 17,
   "metadata": {},
   "outputs": [],
   "source": [
    "# 学習：検証 ＝ 7：3 で分割\n",
    "X_train, X_valid, Y_train, Y_valid = train_test_split(X, Y, test_size=0.3)"
   ]
  },
  {
   "cell_type": "code",
   "execution_count": 38,
   "metadata": {},
   "outputs": [
    {
     "name": "stdout",
     "output_type": "stream",
     "text": [
      "Model: \"sequential_4\"\n",
      "_________________________________________________________________\n",
      "Layer (type)                 Output Shape              Param #   \n",
      "=================================================================\n",
      "conv2d_20 (Conv2D)           (None, 630, 14, 25)       300       \n",
      "_________________________________________________________________\n",
      "conv2d_21 (Conv2D)           (None, 630, 1, 25)        8775      \n",
      "_________________________________________________________________\n",
      "max_pooling2d_16 (MaxPooling (None, 210, 1, 25)        0         \n",
      "_________________________________________________________________\n",
      "conv2d_22 (Conv2D)           (None, 200, 1, 50)        13800     \n",
      "_________________________________________________________________\n",
      "max_pooling2d_17 (MaxPooling (None, 66, 1, 50)         0         \n",
      "_________________________________________________________________\n",
      "conv2d_23 (Conv2D)           (None, 56, 1, 100)        55100     \n",
      "_________________________________________________________________\n",
      "max_pooling2d_18 (MaxPooling (None, 18, 1, 100)        0         \n",
      "_________________________________________________________________\n",
      "conv2d_24 (Conv2D)           (None, 8, 1, 200)         220200    \n",
      "_________________________________________________________________\n",
      "max_pooling2d_19 (MaxPooling (None, 4, 1, 200)         0         \n",
      "_________________________________________________________________\n",
      "flatten_4 (Flatten)          (None, 800)               0         \n",
      "_________________________________________________________________\n",
      "dense_4 (Dense)              (None, 5)                 4005      \n",
      "=================================================================\n",
      "Total params: 302,180\n",
      "Trainable params: 302,180\n",
      "Non-trainable params: 0\n",
      "_________________________________________________________________\n"
     ]
    }
   ],
   "source": [
    "#5層CNN for EEG\n",
    "model = tf.keras.models.Sequential()\n",
    "#1 入力(640,14,1)\n",
    "model.add(tf.keras.layers.Conv2D(25, kernel_size=(11,1),activation='relu', input_shape=(640,14,1)))#時間軸１次畳み込み\n",
    "#2\n",
    "model.add(tf.keras.layers.Conv2D(25, kernel_size=(1,14),activation='relu'))#空間軸1次畳み込み14->1\n",
    "model.add(tf.keras.layers.MaxPooling2D(pool_size=(3,1)))#3x1pooling\n",
    "#3\n",
    "model.add(tf.keras.layers.Conv2D(50, kernel_size=(11,1),activation='relu'))#時間軸1次畳み込み\n",
    "model.add(tf.keras.layers.MaxPooling2D(pool_size=(3,1)))#3x1pooling\n",
    "#4\n",
    "model.add(tf.keras.layers.Conv2D(100, kernel_size=(11,1),activation='relu'))#時間軸1次畳み込み\n",
    "model.add(tf.keras.layers.MaxPooling2D(pool_size=(3,1)))#3x1pooling\n",
    "#5\n",
    "model.add(tf.keras.layers.Conv2D(200, kernel_size=(11,1),activation='relu'))#時間軸1次畳み込み\n",
    "model.add(tf.keras.layers.MaxPooling2D(pool_size=(2,1),strides=(2,1)))#2x1pooling  2strides\n",
    "#\n",
    "model.add(tf.keras.layers.Flatten())#\n",
    "model.add(tf.keras.layers.Dense(len(commands), activation='softmax'))#出力 サイズ4ベクトル\n",
    "\n",
    "model.summary()"
   ]
  },
  {
   "cell_type": "code",
   "execution_count": 39,
   "metadata": {},
   "outputs": [],
   "source": [
    "# モデル構築\n",
    "model.compile(loss='categorical_crossentropy',\n",
    "              optimizer='adam',\n",
    "              metrics=['accuracy'])"
   ]
  },
  {
   "cell_type": "code",
   "execution_count": 40,
   "metadata": {},
   "outputs": [
    {
     "name": "stdout",
     "output_type": "stream",
     "text": [
      "Train on 2856 samples, validate on 1224 samples\n",
      "Epoch 1/60\n",
      "2856/2856 [==============================] - 2s 651us/sample - loss: 1.5870 - accuracy: 0.2388 - val_loss: 1.4919 - val_accuracy: 0.3162\n",
      "Epoch 2/60\n",
      "2856/2856 [==============================] - 1s 433us/sample - loss: 1.4085 - accuracy: 0.3596 - val_loss: 1.3872 - val_accuracy: 0.3709\n",
      "Epoch 3/60\n",
      "2856/2856 [==============================] - 1s 426us/sample - loss: 1.2565 - accuracy: 0.4506 - val_loss: 1.1657 - val_accuracy: 0.5376\n",
      "Epoch 4/60\n",
      "2856/2856 [==============================] - 1s 429us/sample - loss: 1.1187 - accuracy: 0.5382 - val_loss: 1.0982 - val_accuracy: 0.5507\n",
      "Epoch 5/60\n",
      "2856/2856 [==============================] - 1s 428us/sample - loss: 1.0003 - accuracy: 0.5816 - val_loss: 0.9304 - val_accuracy: 0.6152\n",
      "Epoch 6/60\n",
      "2856/2856 [==============================] - 1s 428us/sample - loss: 0.9255 - accuracy: 0.6162 - val_loss: 0.9153 - val_accuracy: 0.6168\n",
      "Epoch 7/60\n",
      "2856/2856 [==============================] - 1s 429us/sample - loss: 0.8781 - accuracy: 0.6313 - val_loss: 1.0529 - val_accuracy: 0.5384\n",
      "Epoch 8/60\n",
      "2856/2856 [==============================] - 1s 423us/sample - loss: 0.8398 - accuracy: 0.6296 - val_loss: 0.8639 - val_accuracy: 0.6258\n",
      "Epoch 9/60\n",
      "2856/2856 [==============================] - 1s 425us/sample - loss: 0.7964 - accuracy: 0.6618 - val_loss: 0.8038 - val_accuracy: 0.6495\n",
      "Epoch 10/60\n",
      "2856/2856 [==============================] - 1s 429us/sample - loss: 0.7523 - accuracy: 0.6635 - val_loss: 0.7871 - val_accuracy: 0.6609\n",
      "Epoch 11/60\n",
      "2856/2856 [==============================] - 1s 433us/sample - loss: 0.7418 - accuracy: 0.6772 - val_loss: 0.7799 - val_accuracy: 0.6846\n",
      "Epoch 12/60\n",
      "2856/2856 [==============================] - 1s 428us/sample - loss: 0.7220 - accuracy: 0.6845 - val_loss: 0.7315 - val_accuracy: 0.6871\n",
      "Epoch 13/60\n",
      "2856/2856 [==============================] - 1s 423us/sample - loss: 0.7001 - accuracy: 0.6898 - val_loss: 0.7364 - val_accuracy: 0.6797\n",
      "Epoch 14/60\n",
      "2856/2856 [==============================] - 1s 423us/sample - loss: 0.6767 - accuracy: 0.7027 - val_loss: 0.6958 - val_accuracy: 0.6887\n",
      "Epoch 15/60\n",
      "2856/2856 [==============================] - 1s 426us/sample - loss: 0.6771 - accuracy: 0.7076 - val_loss: 0.7351 - val_accuracy: 0.6838\n",
      "Epoch 16/60\n",
      "2856/2856 [==============================] - 1s 423us/sample - loss: 0.6506 - accuracy: 0.7087 - val_loss: 0.6609 - val_accuracy: 0.7165\n",
      "Epoch 17/60\n",
      "2856/2856 [==============================] - 1s 436us/sample - loss: 0.6176 - accuracy: 0.7300 - val_loss: 0.6633 - val_accuracy: 0.7116\n",
      "Epoch 18/60\n",
      "2856/2856 [==============================] - 1s 427us/sample - loss: 0.5881 - accuracy: 0.7426 - val_loss: 0.6794 - val_accuracy: 0.6838\n",
      "Epoch 19/60\n",
      "2856/2856 [==============================] - 1s 434us/sample - loss: 0.5786 - accuracy: 0.7472 - val_loss: 0.6928 - val_accuracy: 0.6830\n",
      "Epoch 20/60\n",
      "2856/2856 [==============================] - 1s 424us/sample - loss: 0.5563 - accuracy: 0.7591 - val_loss: 0.6284 - val_accuracy: 0.7051\n",
      "Epoch 21/60\n",
      "2856/2856 [==============================] - 1s 426us/sample - loss: 0.5140 - accuracy: 0.7707 - val_loss: 0.6070 - val_accuracy: 0.7304\n",
      "Epoch 22/60\n",
      "2856/2856 [==============================] - 1s 426us/sample - loss: 0.4960 - accuracy: 0.7787 - val_loss: 0.7056 - val_accuracy: 0.7083\n",
      "Epoch 23/60\n",
      "2856/2856 [==============================] - 1s 427us/sample - loss: 0.4902 - accuracy: 0.7857 - val_loss: 0.5586 - val_accuracy: 0.7663\n",
      "Epoch 24/60\n",
      "2856/2856 [==============================] - 1s 431us/sample - loss: 0.4320 - accuracy: 0.8148 - val_loss: 0.6434 - val_accuracy: 0.7369\n",
      "Epoch 25/60\n",
      "2856/2856 [==============================] - 1s 422us/sample - loss: 0.4326 - accuracy: 0.8186 - val_loss: 0.5620 - val_accuracy: 0.7639\n",
      "Epoch 26/60\n",
      "2856/2856 [==============================] - 1s 429us/sample - loss: 0.4235 - accuracy: 0.8193 - val_loss: 0.5138 - val_accuracy: 0.7917\n",
      "Epoch 27/60\n",
      "2856/2856 [==============================] - 1s 423us/sample - loss: 0.3628 - accuracy: 0.8533 - val_loss: 0.5528 - val_accuracy: 0.7778\n",
      "Epoch 28/60\n",
      "2856/2856 [==============================] - 1s 430us/sample - loss: 0.3816 - accuracy: 0.8442 - val_loss: 0.4405 - val_accuracy: 0.8137\n",
      "Epoch 29/60\n",
      "2856/2856 [==============================] - 1s 429us/sample - loss: 0.3289 - accuracy: 0.8676 - val_loss: 0.4466 - val_accuracy: 0.8162\n",
      "Epoch 30/60\n",
      "2856/2856 [==============================] - 1s 430us/sample - loss: 0.3071 - accuracy: 0.8736 - val_loss: 0.4719 - val_accuracy: 0.8260\n",
      "Epoch 31/60\n",
      "2856/2856 [==============================] - 1s 435us/sample - loss: 0.3497 - accuracy: 0.8585 - val_loss: 0.4348 - val_accuracy: 0.8178\n",
      "Epoch 32/60\n",
      "2856/2856 [==============================] - 1s 433us/sample - loss: 0.2826 - accuracy: 0.8862 - val_loss: 0.3692 - val_accuracy: 0.8578\n",
      "Epoch 33/60\n",
      "2856/2856 [==============================] - 1s 430us/sample - loss: 0.2448 - accuracy: 0.8981 - val_loss: 0.4193 - val_accuracy: 0.8431\n",
      "Epoch 34/60\n",
      "2856/2856 [==============================] - 1s 434us/sample - loss: 0.2692 - accuracy: 0.8925 - val_loss: 0.3789 - val_accuracy: 0.8619\n",
      "Epoch 35/60\n",
      "2856/2856 [==============================] - 1s 426us/sample - loss: 0.2367 - accuracy: 0.9034 - val_loss: 0.3545 - val_accuracy: 0.8676\n",
      "Epoch 36/60\n",
      "2856/2856 [==============================] - 1s 427us/sample - loss: 0.2302 - accuracy: 0.9051 - val_loss: 0.4542 - val_accuracy: 0.8219\n",
      "Epoch 37/60\n",
      "2856/2856 [==============================] - 1s 432us/sample - loss: 0.2470 - accuracy: 0.9006 - val_loss: 0.3947 - val_accuracy: 0.8292\n",
      "Epoch 38/60\n",
      "2856/2856 [==============================] - 1s 431us/sample - loss: 0.2031 - accuracy: 0.9174 - val_loss: 0.3194 - val_accuracy: 0.8685\n",
      "Epoch 39/60\n",
      "2856/2856 [==============================] - 1s 431us/sample - loss: 0.1927 - accuracy: 0.9251 - val_loss: 0.3593 - val_accuracy: 0.8587\n",
      "Epoch 40/60\n",
      "2856/2856 [==============================] - 1s 426us/sample - loss: 0.1895 - accuracy: 0.9237 - val_loss: 0.3527 - val_accuracy: 0.8742\n",
      "Epoch 41/60\n",
      "2856/2856 [==============================] - 1s 429us/sample - loss: 0.1503 - accuracy: 0.9419 - val_loss: 0.3206 - val_accuracy: 0.8832\n",
      "Epoch 42/60\n",
      "2856/2856 [==============================] - 1s 431us/sample - loss: 0.1637 - accuracy: 0.9356 - val_loss: 0.3007 - val_accuracy: 0.8905\n",
      "Epoch 43/60\n",
      "2856/2856 [==============================] - 1s 434us/sample - loss: 0.1564 - accuracy: 0.9412 - val_loss: 0.2865 - val_accuracy: 0.8881\n",
      "Epoch 44/60\n",
      "2856/2856 [==============================] - 1s 432us/sample - loss: 0.1189 - accuracy: 0.9503 - val_loss: 0.4469 - val_accuracy: 0.8627\n",
      "Epoch 45/60\n",
      "2856/2856 [==============================] - 1s 425us/sample - loss: 0.1410 - accuracy: 0.9412 - val_loss: 0.4086 - val_accuracy: 0.8554\n",
      "Epoch 46/60\n",
      "2856/2856 [==============================] - 1s 428us/sample - loss: 0.1100 - accuracy: 0.9636 - val_loss: 0.3018 - val_accuracy: 0.9085\n",
      "Epoch 47/60\n",
      "2856/2856 [==============================] - 1s 430us/sample - loss: 0.0989 - accuracy: 0.9664 - val_loss: 0.5104 - val_accuracy: 0.8178\n",
      "Epoch 48/60\n",
      "2856/2856 [==============================] - 1s 428us/sample - loss: 0.1247 - accuracy: 0.9566 - val_loss: 0.3107 - val_accuracy: 0.8905\n",
      "Epoch 49/60\n",
      "2856/2856 [==============================] - 1s 429us/sample - loss: 0.0953 - accuracy: 0.9646 - val_loss: 0.3123 - val_accuracy: 0.8864\n",
      "Epoch 50/60\n",
      "2856/2856 [==============================] - 1s 433us/sample - loss: 0.1457 - accuracy: 0.9461 - val_loss: 0.2760 - val_accuracy: 0.8971\n",
      "Epoch 51/60\n",
      "2856/2856 [==============================] - 1s 428us/sample - loss: 0.0620 - accuracy: 0.9776 - val_loss: 0.3067 - val_accuracy: 0.8913\n",
      "Epoch 52/60\n",
      "2856/2856 [==============================] - 1s 435us/sample - loss: 0.0704 - accuracy: 0.9811 - val_loss: 0.3362 - val_accuracy: 0.9028\n",
      "Epoch 53/60\n",
      "2856/2856 [==============================] - 1s 430us/sample - loss: 0.0413 - accuracy: 0.9863 - val_loss: 0.4366 - val_accuracy: 0.8725\n",
      "Epoch 54/60\n",
      "2856/2856 [==============================] - 1s 431us/sample - loss: 0.0672 - accuracy: 0.9793 - val_loss: 0.3831 - val_accuracy: 0.8881\n",
      "Epoch 55/60\n",
      "2856/2856 [==============================] - 1s 432us/sample - loss: 0.0448 - accuracy: 0.9860 - val_loss: 0.3498 - val_accuracy: 0.9003\n"
     ]
    },
    {
     "name": "stdout",
     "output_type": "stream",
     "text": [
      "Epoch 56/60\n",
      "2856/2856 [==============================] - 1s 432us/sample - loss: 0.1323 - accuracy: 0.9527 - val_loss: 0.3432 - val_accuracy: 0.8864\n",
      "Epoch 57/60\n",
      "2856/2856 [==============================] - 1s 430us/sample - loss: 0.0810 - accuracy: 0.9706 - val_loss: 0.3231 - val_accuracy: 0.9036\n",
      "Epoch 58/60\n",
      "2856/2856 [==============================] - 1s 429us/sample - loss: 0.0488 - accuracy: 0.9853 - val_loss: 0.2596 - val_accuracy: 0.9150\n",
      "Epoch 59/60\n",
      "2856/2856 [==============================] - 1s 431us/sample - loss: 0.0179 - accuracy: 0.9961 - val_loss: 0.2610 - val_accuracy: 0.9134\n",
      "Epoch 60/60\n",
      "2856/2856 [==============================] - 1s 435us/sample - loss: 0.0268 - accuracy: 0.9930 - val_loss: 0.3331 - val_accuracy: 0.8995\n"
     ]
    }
   ],
   "source": [
    "# モデル学習\n",
    "history = model.fit(X_train,\n",
    "                    Y_train,\n",
    "                    batch_size= 16,\n",
    "                    epochs=60,\n",
    "                    verbose=1,\n",
    "                    validation_data=(X_valid,Y_valid))"
   ]
  },
  {
   "cell_type": "code",
   "execution_count": 41,
   "metadata": {},
   "outputs": [
    {
     "data": {
      "image/png": "[encoded data removed]",
      "text/plain": [
       "<Figure size 432x288 with 1 Axes>"
      ]
     },
     "metadata": {
      "needs_background": "light"
     },
     "output_type": "display_data"
    },
    {
     "data": {
      "image/png": "[encoded data removed]",
      "text/plain": [
       "<Figure size 432x288 with 1 Axes>"
      ]
     },
     "metadata": {
      "needs_background": "light"
     },
     "output_type": "display_data"
    }
   ],
   "source": [
    "# 精度のplot\n",
    "plt.plot(history.history['accuracy'], marker='.', label='acc')\n",
    "plt.plot(history.history['val_accuracy'], marker='.', label='val_acc')\n",
    "plt.title('model accuracy')\n",
    "plt.grid()\n",
    "plt.xlabel('epoch')\n",
    "plt.ylabel('accuracy')\n",
    "plt.legend(loc='best')\n",
    "plt.show()\n",
    "\n",
    "# 損失のplot\n",
    "plt.plot(history.history['loss'], marker='.', label='loss')\n",
    "plt.plot(history.history['val_loss'], marker='.', label='val_loss')\n",
    "plt.title('model loss')\n",
    "plt.grid()\n",
    "plt.xlabel('epoch')\n",
    "plt.ylabel('loss')\n",
    "plt.legend(loc='best')\n",
    "plt.show()"
   ]
  },
  {
   "cell_type": "code",
   "execution_count": null,
   "metadata": {},
   "outputs": [],
   "source": [
    "#予測\n",
    "np.set_printoptions(precision=3)\n",
    "acc_block = np.zeros([len(commands),len(commands)])\n",
    "\n",
    "for i in range(len(Y_train)):\n",
    "  pre_num = model.predict(X_train[i].reshape(1,DATA_LENGTH,14,1))\n",
    "  tru_num = np.argmax(Y_train[i])\n",
    "  acc_block[tru_num] = acc_block[tru_num] + pre_num\n",
    "  if i%200 == 0:\n",
    "    print('now:{}/{}'.format(i,len(Y_train)))\n",
    "  \n",
    "#百分率化%\n",
    "Y_num = np.sum(Y_train,axis=0)\n",
    "for i in range(len(Y_num)):\n",
    "  acc_block[i] = (acc_block[i]*100)/Y_num[i]\n",
    "#表示 横1段目(行)はneutralの判別割合(%), 2段目はstraightの...\n",
    "print(acc_block)"
   ]
  },
  {
   "cell_type": "code",
   "execution_count": 36,
   "metadata": {},
   "outputs": [],
   "source": [
    "test_data_path = \"./{}/testdata\".format(username)\n",
    "\n",
    "all_files = os.listdir(test_data_path)\n",
    "\n",
    "X_test = np.zeros((0, DATA_LENGTH, CHANNEL_NUMBER), float)\n",
    "Y_test = np.zeros(0)\n",
    "for commandIdx, command in enumerate(commands):\n",
    "    specific_command_data_list = np.zeros((0, DATA_LENGTH, CHANNEL_NUMBER), float)\n",
    "    specific_files = [s for s in all_files if command in s and '.csv' in s]\n",
    "    for specific_file in specific_files:\n",
    "        with open(test_data_path + \"/\" + specific_file) as f:\n",
    "            reader = csv.reader(f)\n",
    "            l = [row for row in reader]\n",
    "        l = [[float(v) for v in row[3:3+CHANNEL_NUMBER]] for row in l[2:]] # EEGに該当する部分のみスライス\n",
    "        l = np.array(l)\n",
    "        l = l.astype(np.float)\n",
    "        \n",
    "        step = 0\n",
    "        while IGNORE_LENGTH + STEP_SIZE * step + DATA_LENGTH < l.shape[0]:\n",
    "            startIdx = IGNORE_LENGTH + STEP_SIZE * step\n",
    "            endIdx = IGNORE_LENGTH + STEP_SIZE * step + DATA_LENGTH\n",
    "            X_test = np.block([[[X_test]], [[normalize(l[startIdx:endIdx]).reshape(1, DATA_LENGTH, CHANNEL_NUMBER)]]])\n",
    "            step += 1\n",
    "        Y_test = np.append(Y_test, np.full(step, commandIdx))\n",
    "\n",
    "X_test = X_test.reshape(X_test.shape[0], X_test.shape[1],X_test.shape[2], 1)\n",
    "Y_test = tf.keras.utils.to_categorical(Y_test, num_classes=len(commands))"
   ]
  },
  {
   "cell_type": "code",
   "execution_count": 42,
   "metadata": {},
   "outputs": [
    {
     "name": "stdout",
     "output_type": "stream",
     "text": [
      "\r",
      "1020/1 [========================================================================================================================================================================================================================================================================================================================================================================================================================================================================================================================================================================================================================================================================================================================================================================================================================================================================================================================================================================================================================================================================================================================================================================================================================================================================================================================================================================================================================================================================================================================================================================================================================================================================================================================================================================================================================================================================================================================================================================================================================================================================================================================================================================================================================================================================================================================================================================================================================================================================================================================================================================================================================================================================================================================================================================================================================================================================================================================================================================================================================================================================================================================================================================================================================================================================================================================================================================================================================================================================================================================================================================================================================================================================================================================================================================================================================================================================================================================================================================================================================================================================================================================================================================================================================================================================================================================================================================================================================================================================================================================================================================================================================================================================================================================================================================================================================================================================================================================================================================================================================================================================================================================================================================================================================================================================================================================================================================================================================================================================================================================================================================================================================================================================================================================================================================================================================================================================================================================================================================================================================================================================================================================================================================================================================================================================================================================================================================================================================================================================================================================================================================================================================================================================================================================================================================================================================================================================================================================================================================================================================================================================================================================================================================================================================================================================================================================================================================================================================================================================================================================================================================================================================================================================================================================================================================================================================================================================================================================================================================================================================================================================================================================================================================================================================================================================================================================================================================================================================================================================================================================================================================================================================================================================================================================================================================================================================================================================================================================================================================================================================================================================================================================================================================================================================================================================================================================================================================================================================================================================================================================================================================================================================================================================================================================================================================================================================================================================================================================================================================================================================================================================================================================================================================================================================================================================================================================================================================================================================================================================================================================================================================================================================================================================================================================================================================================================================================================================================================================================================================================================================================================================================================================================================================================================================================================================================================================================================================================================================================================================================================================================================================================================================================================================================================================================================================================================================================================================================================================================================================================================================================================================================================================================================================================================================================================================================================================================================================================================================================================================================================================================================================================================================================================================================================================================================================================================================================================================================================================================================================================================================================================================================================================================================================================================================================================================================================================================================================================================================================================================================================================================================================================================================================================================================================================================================================================================================================================================================================================================================================================================================================================================================================================================================================================================================================================================================================================================================================================================================================================================================================================================================================================================================================================================================================================================================================================================================================================================================================================================================================================================================================================================================================================================================================================================================================================================================================================================================================================================================================================================================================================================================================================================================================================================================================================================================================================================================================================================================================================================================================================================================================================================================================================================================================================================================================================================================================================================================================================================================================================================================================================================================================================================================================================================================================================================================================================================================================================================================================================================================================================================================================================================================================================================================================================================================================================================================================================================================================================================================================================================================================================================================================================================================================================================================================================================================================================================================================================================================================================================================================================================================================================================================================================================================================================================================================================================================================================================================================================================================================================================================================================================================================================================================================================================================================================================================================================================================================================================================================================================================================================================================================================================================================================================================================================================================================================================================================================================================================================================================================================================================================================================================================================================================================================================================================================================================================================================================================================================================================================================================================================================================================================================================================================================================================================================================================================================================================================================================================================================================================================================================================================================================================================================================================================================================================================================================================================================================================================================================================================================================================================================================================================================================================================================================================================================================================================================================================================================================================================================================================================================================================================================================================================================================================================================================================================================================================================================================================================================================================================================================================================================================================================================================================================================================================================================================================================================================================================================================================================================================================================================================================================================================================================================================================================================================================================================================================================================================================================================================================================================================================================================================================================================================================================================================================================================================================================================================================================================================================================================================================================================================================================================================================================================================================================================================================================================================================================================================================================================================================================================================================================================================================================================================================================================================================================================================================================================================================================================================================================================================================================================================================================================================================================================================================================================================================================================================================================================================================================================================================================================================================================================================================================================================================================================================================================================================================================================================================================================================================================================================================================================================================================================================================================================================================================================================================================================================================================================================================================================================================================================================================================================================================================================================================================================================================================================================================================================================================================================================================================================================================================================================================================================================================================================================================================================================================================================================================================================================================================================================================================================================================================================================================================================================================================================================================================================================================================================================================================================================================================================================================================================================================================================================================================================================================================================================================================================================================================================================================================================================================================================================================================================================================================================================================================================================================================================================================================================================================================================================================================================================================================================================================================================================================================================================================================================================================================================================================================================================================================================================================================================================================================================================================================================================================================================================================================================================================================================================================================================================================================================================================================================================================================================================================================================================================================================================================================================================================================================================================================================================================================================================================================================================================================================================================================================================================================================================================================================================================================================================================================================================================================================================================================================================================================================================================================================================================================================================================================================================================================================================================================================================================================================================================================================================================================================================================================================================================================================================================================================================================================================================================================================================================================================================================================================================================================================================================================================================================================================================================================================] - 0s 127us/sample - loss: 0.3887 - accuracy: 0.8353\n"
     ]
    },
    {
     "data": {
      "text/plain": [
       "[0.7697311311420373, 0.8352941]"
      ]
     },
     "execution_count": 42,
     "metadata": {},
     "output_type": "execute_result"
    }
   ],
   "source": [
    "# テストデータに対する精度\n",
    "model.evaluate(X_test, Y_test)"
   ]
  },
  {
   "cell_type": "code",
   "execution_count": null,
   "metadata": {},
   "outputs": [],
   "source": []
  }
 ],
 "metadata": {
  "kernelspec": {
   "display_name": "Python 3",
   "language": "python",
   "name": "python3"
  },
  "language_info": {
   "codemirror_mode": {
    "name": "ipython",
    "version": 3
   },
   "file_extension": ".py",
   "mimetype": "text/x-python",
   "name": "python",
   "nbconvert_exporter": "python",
   "pygments_lexer": "ipython3",
   "version": "3.6.12"
  }
 },
 "nbformat": 4,
 "nbformat_minor": 2
}
